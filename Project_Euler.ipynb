{
 "cells": [
  {
   "cell_type": "markdown",
   "metadata": {},
   "source": [
    "# Problem 1 : Multiples of 3 or 5\n",
    "\n",
    "If we list all the natural numbers below 10 that are multiples of 3 or 5, we get 3, 5, 6 and 9. The sum of these multiples is 23.\n",
    "\n",
    "Find the sum of all the multiples of 3 or 5 below 1000."
   ]
  },
  {
   "cell_type": "code",
   "execution_count": 4,
   "metadata": {},
   "outputs": [
    {
     "name": "stdout",
     "output_type": "stream",
     "text": [
      "Answer: 233168\n"
     ]
    }
   ],
   "source": [
    "multiples_list = []\n",
    "\n",
    "for multiplier in [3,5]: \n",
    "    for multiple in range(multiplier,1000,multiplier): \n",
    "        multiples_list.append(multiple)\n",
    "\n",
    "multiples_list = list(set(multiples_list)) #remove number that are multiples of both 3 and 5\n",
    "\n",
    "print(f\"Answer: {sum(multiples_list)}\")"
   ]
  }
 ],
 "metadata": {
  "interpreter": {
   "hash": "4afb5c02fe25151971e15bd52e3ee905bb4b51c7d4bc6075a593e92957a65307"
  },
  "kernelspec": {
   "display_name": "Python 3.9.7 ('Project_Euler-YwqOP2qt')",
   "language": "python",
   "name": "python3"
  },
  "language_info": {
   "codemirror_mode": {
    "name": "ipython",
    "version": 3
   },
   "file_extension": ".py",
   "mimetype": "text/x-python",
   "name": "python",
   "nbconvert_exporter": "python",
   "pygments_lexer": "ipython3",
   "version": "3.9.7"
  },
  "orig_nbformat": 4
 },
 "nbformat": 4,
 "nbformat_minor": 2
}
